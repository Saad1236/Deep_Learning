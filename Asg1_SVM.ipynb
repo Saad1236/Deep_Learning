{
 "cells": [
  {
   "cell_type": "code",
   "execution_count": 7,
   "metadata": {},
   "outputs": [
    {
     "name": "stdout",
     "output_type": "stream",
     "text": [
      "['i1.jpeg', 'i10.jpeg', 'i11.jpeg', 'i12.jpeg', 'i19.jpeg', 'i2.jpeg', 'i20.jpeg', 'i3.jpeg', 'i4.jpeg', 'i5.jpeg', 'i6.jpeg', 'i7.jpeg', 'i8.jpeg', 'i9.jpeg']\n",
      "1 name  i1.jpeg label 0\n",
      "2 name  i10.jpeg label 0\n",
      "3 name  i11.jpeg label 0\n",
      "4 name  i12.jpeg label 1\n",
      "5 name  i19.jpeg label 1\n",
      "6 name  i2.jpeg label 1\n",
      "7 name  i20.jpeg label 1\n",
      "8 name  i3.jpeg label 1\n",
      "9 name  i4.jpeg label 1\n",
      "10 name  i5.jpeg label 1\n",
      "11 name  i6.jpeg label 0\n",
      "12 name  i7.jpeg label 0\n",
      "13 name  i8.jpeg label 1\n",
      "14 name  i9.jpeg label 1\n",
      "Training Feature Vector Length: 14 Type: <class 'list'>\n"
     ]
    }
   ],
   "source": [
    "import numpy as np\n",
    "import cv2\n",
    "import os\n",
    "\n",
    "train_data = \"F:/RIME/Sem3_Fall23/C1_DL/Assignment/Asg1/DS/train\"      #University Card\n",
    "#train_data = \"F:/RIME/Sem3_Fall23/C1_DL/Assignment/Asg1/DS/Daud/train\"  #Threads & Books\n",
    "\n",
    "training_images = os.listdir(train_data)\n",
    "print(training_images) # List all the files in the folder\n",
    "\n",
    "# Initialize lists to store train images and labels\n",
    "train_image_features = []\n",
    "labels = [0,0,0,1,1,1,1,1,1,1,0,0,1,1]    #University Card (Training)\n",
    "#labels = [0,0,0,0,0,0,0,1,1,1,1,1,1,1]      #Threads & Books (Training)\n",
    "count = 0\n",
    "\n",
    "# Create a HOG descriptor\n",
    "hog = cv2.HOGDescriptor()\n",
    "\n",
    "for image_file in training_images:\n",
    "    print(count+1,\"name \", image_file, 'label', labels[count])\n",
    "    # Load the image\n",
    "    if image_file is not None:\n",
    "        image = cv2.imread(image_file)\n",
    "        \n",
    "        # Resize the image to a standard size if needed\n",
    "        image = cv2.resize(image, (128, 128))  # Example size, adjust as needed\n",
    "        #cv2.imshow('img', image)\n",
    "        #cv2.waitKey(0)\n",
    "        #cv2.destroyAllWindows()\n",
    "        \n",
    "        gray = cv2.cvtColor(image, cv2.COLOR_BGR2GRAY)\n",
    "        # Compute HOG features\n",
    "        features = hog.compute(gray)\n",
    "        #Pixel intensity vector\n",
    "        pixel_intensity_vector_train = np.array(gray).flatten()\n",
    "        # Append the features and labels to the respective lists\n",
    "        #test_image_features.append(features.flatten())  # Flatten HOG features\n",
    "        train_image_features.append(pixel_intensity_vector_train) #Flatten Pixel Intensities\n",
    "    count = count +1\n",
    "\n",
    "print('Training Feature Vector Length:', len(train_image_features), 'Type:', type(train_image_features))\n",
    "\n"
   ]
  },
  {
   "cell_type": "code",
   "execution_count": 8,
   "metadata": {},
   "outputs": [
    {
     "name": "stdout",
     "output_type": "stream",
     "text": [
      "1 name  i13.jpeg label 0\n",
      "2 name  i14.jpeg label 0\n",
      "3 name  i15.jpeg label 1\n",
      "4 name  i16.jpeg label 1\n",
      "5 name  i17.jpeg label 1\n",
      "6 name  i18.jpeg label 1\n",
      "Test Feature Vector Length: 6 Type: <class 'list'>\n"
     ]
    }
   ],
   "source": [
    "# Compute Feature Descriptor(HOG) of test images\n",
    "test_image_features = []\n",
    "test_labels = [0,0,1,1,1,1]     #University Card (Training)\n",
    "#test_labels = [0,0,0,1,1,1]      #Threads & Books (Training)\n",
    "count = 0\n",
    "\n",
    "image_folder = \"F:/RIME/Sem3_Fall23/C1_DL/Assignment/Asg1/DS/test\"      #University Card\n",
    "#image_folder = \"F:/RIME/Sem3_Fall23/C1_DL/Assignment/Asg1/DS/Daud/test\"  #Threads & Books\n",
    "image_files = os.listdir(image_folder)\n",
    "\n",
    "# Create a HOG descriptor\n",
    "hog = cv2.HOGDescriptor()\n",
    "\n",
    "for image_file in image_files:\n",
    "    print(count+1,\"name \", image_file, 'label', test_labels[count])\n",
    "    # Load the image\n",
    "    if image_file is not None:\n",
    "        image = cv2.imread(image_file)\n",
    "        \n",
    "        # Resize the image to a standard size if needed\n",
    "        image = cv2.resize(image, (128, 128))  # Example size, adjust as needed\n",
    "        \n",
    "        gray = cv2.cvtColor(image, cv2.COLOR_BGR2GRAY)\n",
    "        # Compute HOG features\n",
    "        features = hog.compute(gray)\n",
    "        #Pixel intensity vector\n",
    "        pixel_intensity_vector = np.array(gray).flatten()\n",
    "        # Append the features and labels to the respective lists\n",
    "        #test_image_features.append(features.flatten())  # Flatten HOG features\n",
    "        test_image_features.append(pixel_intensity_vector)  # Flatten Pixel Intensities\n",
    "    count = count +1\n",
    "\n",
    "print('Test Feature Vector Length:', len(test_image_features), 'Type:', type(test_image_features))"
   ]
  },
  {
   "cell_type": "code",
   "execution_count": 10,
   "metadata": {},
   "outputs": [
    {
     "name": "stdout",
     "output_type": "stream",
     "text": [
      "[1. 1. 1. 1. 1. 1.]\n",
      "Accuracy: 66.67%\n"
     ]
    }
   ],
   "source": [
    "# Convert the lists of features and labels into numpy arrays\n",
    "X_train = np.array(train_image_features)\n",
    "y_train = np.array(labels)\n",
    "X_test = np.array(test_image_features)\n",
    "y_test = np.array(test_labels)\n",
    "\n",
    "# SVM training\n",
    "def train_svm(X, y, C=1.0):\n",
    "    n_samples, n_features = X.shape\n",
    "\n",
    "    # Initialize weights and bias\n",
    "    w = np.zeros(n_features)\n",
    "    b = 0\n",
    "\n",
    "    learning_rate = 1e-1\n",
    "    epochs = 1000\n",
    "\n",
    "    for epoch in range(epochs):\n",
    "        for i, x in enumerate(X):\n",
    "            condition = y[i] * (np.dot(x, w) - b) >= 1\n",
    "            if condition:\n",
    "                w -= learning_rate * (2 * C * w)\n",
    "            else:\n",
    "                w -= learning_rate * (2 * C * w - np.dot(x, y[i]))\n",
    "                b -= learning_rate * y[i]\n",
    "\n",
    "    return w, b\n",
    "\n",
    "# Train the SVM\n",
    "C = 1.0  # You can adjust this parameter\n",
    "w, b = train_svm(X_train, y_train, C)\n",
    "\n",
    "# SVM prediction\n",
    "def predict(X, w, b):\n",
    "    return np.sign(np.dot(X, w) - b)\n",
    "\n",
    "# Test the SVM\n",
    "predictions = predict(X_test, w, b)\n",
    "print (predictions)\n",
    "# Calculate accuracy\n",
    "accuracy = np.mean(predictions == y_test)\n",
    "print(f'Accuracy: {accuracy * 100:.2f}%')\n"
   ]
  },
  {
   "cell_type": "code",
   "execution_count": null,
   "metadata": {},
   "outputs": [],
   "source": []
  }
 ],
 "metadata": {
  "kernelspec": {
   "display_name": "Python 3",
   "language": "python",
   "name": "python3"
  },
  "language_info": {
   "codemirror_mode": {
    "name": "ipython",
    "version": 3
   },
   "file_extension": ".py",
   "mimetype": "text/x-python",
   "name": "python",
   "nbconvert_exporter": "python",
   "pygments_lexer": "ipython3",
   "version": "3.11.3"
  },
  "orig_nbformat": 4
 },
 "nbformat": 4,
 "nbformat_minor": 2
}
